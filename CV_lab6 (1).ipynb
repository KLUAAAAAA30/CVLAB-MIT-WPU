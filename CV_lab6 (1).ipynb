{
  "cells": [
    {
      "cell_type": "markdown",
      "source": [
        "Name : Kevalya Gupt\n",
        "\n",
        "PRN Number: 1032210925\n",
        "\n",
        "Expt Number: 06"
      ],
      "metadata": {
        "id": "SqHx9GJ_qyO-"
      }
    },
    {
      "cell_type": "code",
      "execution_count": null,
      "metadata": {
        "id": "zcyNz7oAK7LY"
      },
      "outputs": [],
      "source": [
        "import cv2\n",
        "import matplotlib.pyplot as plt"
      ]
    },
    {
      "cell_type": "code",
      "source": [
        "from google.colab import drive\n",
        "drive.mount('/content/drive')"
      ],
      "metadata": {
        "colab": {
          "base_uri": "https://localhost:8080/"
        },
        "id": "OUYMREH04x79",
        "outputId": "2c5b6b8e-1e93-4cfd-ecfd-2270f1fa53c7"
      },
      "execution_count": null,
      "outputs": [
        {
          "output_type": "stream",
          "name": "stdout",
          "text": [
            "Drive already mounted at /content/drive; to attempt to forcibly remount, call drive.mount(\"/content/drive\", force_remount=True).\n"
          ]
        }
      ]
    },
    {
      "cell_type": "code",
      "execution_count": null,
      "metadata": {
        "id": "Up-Ktt6nUcAh"
      },
      "outputs": [],
      "source": [
        "from google.colab import drive\n",
        "import zipfile\n",
        "from google.colab import drive\n",
        "\n"
      ]
    },
    {
      "cell_type": "code",
      "execution_count": null,
      "metadata": {
        "id": "X0k1Y_c1Xcn8",
        "colab": {
          "base_uri": "https://localhost:8080/"
        },
        "outputId": "085040d6-45f0-4ab3-939d-d28c0a581340"
      },
      "outputs": [
        {
          "output_type": "stream",
          "name": "stdout",
          "text": [
            "/content/drive/MyDrive/cv6\n"
          ]
        }
      ],
      "source": [
        "%cd  /content/drive/MyDrive/cv6"
      ]
    },
    {
      "cell_type": "code",
      "source": [],
      "metadata": {
        "id": "tiIGNprf5UEh"
      },
      "execution_count": null,
      "outputs": []
    },
    {
      "cell_type": "code",
      "execution_count": null,
      "metadata": {
        "id": "gKGShwBWMku2"
      },
      "outputs": [],
      "source": [
        "from keras.preprocessing.image import ImageDataGenerator"
      ]
    },
    {
      "cell_type": "code",
      "execution_count": null,
      "metadata": {
        "id": "r89d8FwbMmN1"
      },
      "outputs": [],
      "source": [
        "# Defining pre-processing transformations on raw images of training data\n",
        "# These hyper parameters helps to generate slightly twisted versions\n",
        "# of the original image, which leads to a better model, since it learns\n",
        "# on the good and bad mix of images\n",
        "\n",
        "train_datagen = ImageDataGenerator(\n",
        "        shear_range=0.1,\n",
        "        zoom_range=0.1,\n",
        "        horizontal_flip=True)"
      ]
    },
    {
      "cell_type": "code",
      "execution_count": null,
      "metadata": {
        "id": "qOoubXN1MntP"
      },
      "outputs": [],
      "source": [
        "#we wont apply any pre processimg on the raw images of the test dataset\n",
        "\n",
        "test_datagen = ImageDataGenerator()"
      ]
    },
    {
      "cell_type": "code",
      "execution_count": null,
      "metadata": {
        "id": "_FfJUmFhTqPD"
      },
      "outputs": [],
      "source": [
        "trainingImagePath = '/content/drive/MyDrive/cv6/Face-Images[1]/Face Images/Final Training Images'\n",
        "testImagePath = '/content/drive/MyDrive/cv6/Face-Images[1]/Face Images/Final Testing Images'"
      ]
    },
    {
      "cell_type": "code",
      "execution_count": null,
      "metadata": {
        "colab": {
          "base_uri": "https://localhost:8080/"
        },
        "id": "9bl6w1QqMo2d",
        "outputId": "9cd4026f-2d39-44bb-c5a6-0fc661f333f2"
      },
      "outputs": [
        {
          "output_type": "stream",
          "name": "stdout",
          "text": [
            "Found 249 images belonging to 17 classes.\n"
          ]
        }
      ],
      "source": [
        "# Generating the Training Data\n",
        "training_set = train_datagen.flow_from_directory(\n",
        "        trainingImagePath,\n",
        "        target_size=(64, 64),\n",
        "        batch_size=32,\n",
        "        class_mode='categorical')"
      ]
    },
    {
      "cell_type": "code",
      "execution_count": null,
      "metadata": {
        "colab": {
          "base_uri": "https://localhost:8080/"
        },
        "id": "M9bbbXrFMqdg",
        "outputId": "058cdcf7-9fdb-4c23-98e0-525087bc2a70"
      },
      "outputs": [
        {
          "output_type": "stream",
          "name": "stdout",
          "text": [
            "Found 67 images belonging to 17 classes.\n"
          ]
        }
      ],
      "source": [
        "\n",
        "# Generating the Testing Data\n",
        "test_set = test_datagen.flow_from_directory(\n",
        "        testImagePath,\n",
        "        target_size=(64, 64),\n",
        "        batch_size=32,\n",
        "        class_mode='categorical')"
      ]
    },
    {
      "cell_type": "code",
      "execution_count": null,
      "metadata": {
        "colab": {
          "base_uri": "https://localhost:8080/"
        },
        "id": "Y7_V_53gMslt",
        "outputId": "6c24e299-abf2-4b3f-d0bc-5b89eb3b6a10"
      },
      "outputs": [
        {
          "output_type": "execute_result",
          "data": {
            "text/plain": [
              "{'face-17': 0,\n",
              " 'face1': 1,\n",
              " 'face10': 2,\n",
              " 'face11': 3,\n",
              " 'face12': 4,\n",
              " 'face13': 5,\n",
              " 'face14': 6,\n",
              " 'face15': 7,\n",
              " 'face16': 8,\n",
              " 'face2': 9,\n",
              " 'face3': 10,\n",
              " 'face4': 11,\n",
              " 'face5': 12,\n",
              " 'face6': 13,\n",
              " 'face7': 14,\n",
              " 'face8': 15,\n",
              " 'face9': 16}"
            ]
          },
          "metadata": {},
          "execution_count": 29
        }
      ],
      "source": [
        "# Printing class labels for each face\n",
        "test_set.class_indices"
      ]
    },
    {
      "cell_type": "code",
      "execution_count": null,
      "metadata": {
        "colab": {
          "base_uri": "https://localhost:8080/"
        },
        "id": "XxiUm2dGMuz0",
        "outputId": "2d9e1925-1c77-4c47-a767-5222c54ef3b7"
      },
      "outputs": [
        {
          "output_type": "stream",
          "name": "stdout",
          "text": [
            "Mapping of Face and its ID {0: 'face1', 1: 'face10', 2: 'face11', 3: 'face12', 4: 'face13', 5: 'face14', 6: 'face15', 7: 'face16', 8: 'face17', 9: 'face2', 10: 'face3', 11: 'face4', 12: 'face5', 13: 'face6', 14: 'face7', 15: 'face8', 16: 'face9'}\n",
            "\n",
            " The Number of output neurons:  17\n"
          ]
        }
      ],
      "source": [
        "# class_indices have the numeric tag for each face\n",
        "TrainClasses=training_set.class_indices\n",
        "\n",
        "# Storing the face and the numeric tag for future reference\n",
        "ResultMap={}\n",
        "for faceValue,faceName in zip(TrainClasses.values(),TrainClasses.keys()):\n",
        "    ResultMap[faceValue]=faceName\n",
        "\n",
        "# Saving the face map for future reference\n",
        "import pickle\n",
        "with open(\"ResultsMap.pkl\", 'wb') as fileWriteStream:\n",
        "    pickle.dump(ResultMap, fileWriteStream)\n",
        "\n",
        "# The model will give answer as a numeric tag\n",
        "# This mapping will help to get the corresponding face name for it\n",
        "print(\"Mapping of Face and its ID\",ResultMap)\n",
        "\n",
        "# The number of neurons for the output layer is equal to the number of faces\n",
        "OutputNeurons=len(ResultMap)\n",
        "print('\\n The Number of output neurons: ', OutputNeurons)"
      ]
    },
    {
      "cell_type": "code",
      "execution_count": null,
      "metadata": {
        "id": "Sg-CBOa_MxJF"
      },
      "outputs": [],
      "source": [
        "# so in our CNN model we would have:\n",
        "#2 hideen convolutional layers\n",
        "#2 hidden pooling layers\n",
        "#16 neurons in the output layer since we have 17 classes\n",
        "# and 1 flattening layer"
      ]
    },
    {
      "cell_type": "code",
      "execution_count": null,
      "metadata": {
        "id": "Tm2ZAM33MyId"
      },
      "outputs": [],
      "source": [
        "from keras.models import Sequential\n",
        "from keras.layers import Convolution2D\n",
        "from keras.layers import MaxPool2D\n",
        "from keras.layers import Flatten\n",
        "from keras.layers import Dense"
      ]
    },
    {
      "cell_type": "code",
      "execution_count": null,
      "metadata": {
        "colab": {
          "base_uri": "https://localhost:8080/"
        },
        "id": "pxEe-luPM09U",
        "outputId": "6023f457-d6a1-4dcd-ff16-710ea7535cca"
      },
      "outputs": [
        {
          "output_type": "stream",
          "name": "stdout",
          "text": [
            "Epoch 1/15\n",
            "8/8 [==============================] - ETA: 0s - loss: 52.1161 - accuracy: 0.0402"
          ]
        },
        {
          "output_type": "stream",
          "name": "stderr",
          "text": [
            "WARNING:tensorflow:Your input ran out of data; interrupting training. Make sure that your dataset or generator can generate at least `steps_per_epoch * epochs` batches (in this case, 10 batches). You may need to use the repeat() function when building your dataset.\n"
          ]
        },
        {
          "output_type": "stream",
          "name": "stdout",
          "text": [
            "\b\b\b\b\b\b\b\b\b\b\b\b\b\b\b\b\b\b\b\b\b\b\b\b\b\b\b\b\b\b\b\b\b\b\b\b\b\b\b\b\b\b\b\b\b\b\b\b\b\b\b\b\b\b\b\b\b\b\b\b\b\b\b\b\b\b\b\b\b\b\b\b\b\b\b\b\b\b\b\b\b\r8/8 [==============================] - 11s 1s/step - loss: 52.1161 - accuracy: 0.0402 - val_loss: 4.5808 - val_accuracy: 0.0746\n",
            "Epoch 2/15\n",
            "8/8 [==============================] - 3s 354ms/step - loss: 3.1334 - accuracy: 0.1165\n",
            "Epoch 3/15\n",
            "8/8 [==============================] - 3s 349ms/step - loss: 2.7993 - accuracy: 0.1084\n",
            "Epoch 4/15\n",
            "8/8 [==============================] - 5s 593ms/step - loss: 2.6500 - accuracy: 0.1968\n",
            "Epoch 5/15\n",
            "8/8 [==============================] - 3s 368ms/step - loss: 2.0638 - accuracy: 0.4217\n",
            "Epoch 6/15\n",
            "8/8 [==============================] - 3s 341ms/step - loss: 1.6374 - accuracy: 0.5100\n",
            "Epoch 7/15\n",
            "8/8 [==============================] - 3s 403ms/step - loss: 0.8765 - accuracy: 0.7390\n",
            "Epoch 8/15\n",
            "8/8 [==============================] - 5s 556ms/step - loss: 0.6752 - accuracy: 0.8273\n",
            "Epoch 9/15\n",
            "8/8 [==============================] - 3s 330ms/step - loss: 0.3715 - accuracy: 0.9076\n",
            "Epoch 10/15\n",
            "8/8 [==============================] - 3s 373ms/step - loss: 0.2268 - accuracy: 0.9237\n",
            "Epoch 11/15\n",
            "8/8 [==============================] - 4s 441ms/step - loss: 0.2048 - accuracy: 0.9237\n",
            "Epoch 12/15\n",
            "8/8 [==============================] - 3s 346ms/step - loss: 0.1103 - accuracy: 0.9679\n",
            "Epoch 13/15\n",
            "8/8 [==============================] - 3s 328ms/step - loss: 0.1063 - accuracy: 0.9799\n",
            "Epoch 14/15\n",
            "8/8 [==============================] - 3s 326ms/step - loss: 0.0948 - accuracy: 0.9799\n",
            "Epoch 15/15\n",
            "8/8 [==============================] - 4s 455ms/step - loss: 0.1171 - accuracy: 0.9759\n"
          ]
        },
        {
          "output_type": "execute_result",
          "data": {
            "text/plain": [
              "<keras.src.callbacks.History at 0x791ad434b250>"
            ]
          },
          "metadata": {},
          "execution_count": 33
        }
      ],
      "source": [
        "'''Initializing the Convolutional Neural Network'''\n",
        "classifier= Sequential()\n",
        "\n",
        "''' STEP--1 Convolution\n",
        "# Adding the first layer of CNN\n",
        "# we are using the format (64,64,3) because we are using TensorFlow backend\n",
        "# It means 3 matrix of size (64X64) pixels representing Red, Green and Blue components of pixels\n",
        "'''\n",
        "classifier.add(Convolution2D(32, kernel_size=(5, 5), strides=(1, 1), input_shape=(64,64,3), activation='relu'))\n",
        "\n",
        "'''STEP--2 MAX Pooling'''\n",
        "classifier.add(MaxPool2D(pool_size=(2,2)))\n",
        "\n",
        "''' ADDITIONAL LAYER of CONVOLUTION for better accuracy'''\n",
        "classifier.add(Convolution2D(64, kernel_size=(5, 5), strides=(1, 1), activation='relu'))\n",
        "\n",
        "classifier.add(MaxPool2D(pool_size=(2,2)))\n",
        "\n",
        "''' STEP--3 FLattening'''\n",
        "classifier.add(Flatten())\n",
        "\n",
        "'''STEP--4 Fully Connected Neural Network'''\n",
        "classifier.add(Dense(64, activation='relu'))\n",
        "\n",
        "classifier.add(Dense(OutputNeurons, activation='softmax'))\n",
        "\n",
        "'''Compiling the CNN'''\n",
        "#classifier.compile(loss='binary_crossentropy', optimizer='adam', metrics=['accuracy'])\n",
        "classifier.compile(loss='categorical_crossentropy', optimizer = 'adam', metrics=[\"accuracy\"])\n",
        "\n",
        "\n",
        "\n",
        "# Starting the model training\n",
        "classifier.fit(\n",
        "    training_set,\n",
        "    steps_per_epoch=8,         #number of steps per epoch = (Total number of training samples / Batch size), here i have 244 training images and the batch size is 32, therefore the steps_per_epochs comes out to be 7.6 = 8\n",
        "    epochs=15,\n",
        "    validation_data=test_set,\n",
        "    validation_steps=10\n",
        ")"
      ]
    },
    {
      "cell_type": "code",
      "execution_count": null,
      "metadata": {
        "colab": {
          "base_uri": "https://localhost:8080/",
          "height": 217
        },
        "id": "9VOzFhYWM2st",
        "outputId": "e1b9823d-bb5a-43c7-a2a1-3a2029ba6fb6"
      },
      "outputs": [
        {
          "output_type": "display_data",
          "data": {
            "text/plain": [
              "<PIL.Image.Image image mode=RGB size=276x182>"
            ],
            "image/png": "[encoded data removed]"
          },
          "metadata": {}
        },
        {
          "output_type": "stream",
          "name": "stdout",
          "text": [
            "Prediction is:  face17\n"
          ]
        }
      ],
      "source": [
        "from google.colab.patches import cv2_imshow\n",
        "'''Making single predictions'''\n",
        "import numpy as np\n",
        "from keras.preprocessing import image\n",
        "\n",
        "ImagePath='/content/drive/MyDrive/cv6/Face-Images[1]/Face Images/Final Testing Images/face-17/images (4).jpeg'\n",
        "test_image=image.load_img(ImagePath,target_size=(64, 64))\n",
        "test_image=image.img_to_array(test_image)\n",
        "\n",
        "test_image=np.expand_dims(test_image,axis=0)\n",
        "\n",
        "result=classifier.predict(test_image,verbose=0)\n",
        "#print(training_set.class_indices)\n",
        "\n",
        "imagepathforoutput=r'/content/drive/MyDrive/cv6/Face-Images[1]/Face Images/Final Testing Images/face-17/images (1).jpeg'\n",
        "imageforoutput = cv2.imread(imagepathforoutput)\n",
        "cv2_imshow(imageforoutput)\n",
        "print('Prediction is: ',ResultMap[np.argmax(result)])"
      ]
    },
    {
      "cell_type": "code",
      "execution_count": null,
      "metadata": {
        "id": "7SPndniCO1m1"
      },
      "outputs": [],
      "source": []
    }
  ],
  "metadata": {
    "colab": {
      "provenance": []
    },
    "kernelspec": {
      "display_name": "Python 3",
      "name": "python3"
    },
    "language_info": {
      "name": "python"
    }
  },
  "nbformat": 4,
  "nbformat_minor": 0
}